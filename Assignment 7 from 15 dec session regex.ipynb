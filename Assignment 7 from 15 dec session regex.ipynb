{
 "cells": [
  {
   "cell_type": "code",
   "execution_count": 5,
   "id": "a7caca16",
   "metadata": {},
   "outputs": [
    {
     "name": "stdout",
     "output_type": "stream",
     "text": [
      "Enter your password: Shailendra@123\n",
      "Password is valid\n"
     ]
    }
   ],
   "source": [
    "'''\n",
    "Password - Minimum length is 5;\n",
    "         - Maximum length is 10;\n",
    "        - Should contain at least one number;\n",
    "        - Should contain at least one special character (such as &, +, @, $, #, %, etc.)\n",
    "         - one letter to capital and one letter to be small'''\n",
    "                                                  \n",
    "s = input(\"Enter your password: \")\n",
    "if(s, 5 <= len(s) <= 16 and any(l in \"0123456789\" for l in s) and any(l in \"!\\\"#$%&'()*+,-./:;<=>?@[\\]^_`{|}~\" for l in s)):\n",
    "     print(\"Password is valid\")\n",
    "else:\n",
    "    print(\"Password is invalid\")\n",
    "    "
   ]
  },
  {
   "cell_type": "code",
   "execution_count": 6,
   "id": "9b91ce3e",
   "metadata": {},
   "outputs": [
    {
     "name": "stdout",
     "output_type": "stream",
     "text": [
      "Enter a string:NAMAN\n",
      "The string is a palindrome\n"
     ]
    }
   ],
   "source": [
    "\"\"\"\n",
    "'NAMAN'a string to be input from the user & try to see whether it's a palindrome or not\n",
    "\t- Try to execute it with the slicing & indexing\n",
    "\t- without the slicing & indexing\"\"\"\n",
    "\n",
    "string=input((\"Enter a string:\"))\n",
    "if(string==string[::-1]):\n",
    "      print(\"The string is a palindrome\")\n",
    "else:\n",
    "      print(\"Not a palindrome\")"
   ]
  },
  {
   "cell_type": "code",
   "execution_count": null,
   "id": "de8f2461",
   "metadata": {},
   "outputs": [],
   "source": []
  }
 ],
 "metadata": {
  "kernelspec": {
   "display_name": "Python 3",
   "language": "python",
   "name": "python3"
  },
  "language_info": {
   "codemirror_mode": {
    "name": "ipython",
    "version": 3
   },
   "file_extension": ".py",
   "mimetype": "text/x-python",
   "name": "python",
   "nbconvert_exporter": "python",
   "pygments_lexer": "ipython3",
   "version": "3.8.8"
  }
 },
 "nbformat": 4,
 "nbformat_minor": 5
}
